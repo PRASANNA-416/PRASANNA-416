{
  "cells": [
    {
      "cell_type": "markdown",
      "metadata": {
        "id": "view-in-github",
        "colab_type": "text"
      },
      "source": [
        "<a href=\"https://colab.research.google.com/github/PRASANNA-416/PRASANNA-416/blob/main/Drowsy.ipynb\" target=\"_parent\"><img src=\"https://colab.research.google.com/assets/colab-badge.svg\" alt=\"Open In Colab\"/></a>"
      ]
    },
    {
      "cell_type": "code",
      "execution_count": 3,
      "metadata": {
        "id": "yI4zg7ZgZODP"
      },
      "outputs": [],
      "source": [
        "from tensorflow.keras.layers import Input, Lambda, Dense, Flatten,Conv2D\n",
        "from tensorflow.keras.models import Model\n",
        "from tensorflow.keras.applications.vgg19 import VGG19\n",
        "from tensorflow.keras.applications.resnet50 import preprocess_input\n",
        "from tensorflow.keras.preprocessing import image\n",
        "from tensorflow.keras.preprocessing.image import ImageDataGenerator,load_img\n",
        "from tensorflow.keras.models import Sequential\n",
        "import numpy as np\n",
        "from glob import glob\n",
        "import matplotlib.pyplot as plt\n",
        "import os"
      ]
    },
    {
      "cell_type": "markdown",
      "source": [
        "MADE  P M SHALINI , NO PLAGIRISM "
      ],
      "metadata": {
        "id": "Xpn6IjcB6JjZ"
      }
    },
    {
      "cell_type": "code",
      "source": [
        "from google.colab import drive\n",
        "drive.mount(\"/content/gdrive/\")"
      ],
      "metadata": {
        "colab": {
          "base_uri": "https://localhost:8080/"
        },
        "id": "VkX_sqkkZiQu",
        "outputId": "b6fe749a-9dae-4295-d12b-699d25a816e8"
      },
      "execution_count": 4,
      "outputs": [
        {
          "output_type": "stream",
          "name": "stdout",
          "text": [
            "Drive already mounted at /content/gdrive/; to attempt to forcibly remount, call drive.mount(\"/content/gdrive/\", force_remount=True).\n"
          ]
        }
      ]
    },
    {
      "cell_type": "code",
      "source": [
        "IMAGE_SIZE = [224, 224]\n",
        "\n",
        "train_path = '/content/gdrive/MyDrive/ML/Driver_safety-master/Driver_safety-master/eyes/Train'\n",
        "# valid_path = '/content/gdrive/MyDrive/ML/Driver_safety-master/Driver_safety-master/eyes/OpenFace'"
      ],
      "metadata": {
        "id": "PfT3YHrFfzZk"
      },
      "execution_count": 5,
      "outputs": []
    },
    {
      "cell_type": "code",
      "execution_count": 6,
      "metadata": {
        "id": "yZCIzIH6ZODY",
        "colab": {
          "base_uri": "https://localhost:8080/"
        },
        "outputId": "4826b8b0-2681-45eb-bb80-5e1298b393b2"
      },
      "outputs": [
        {
          "output_type": "stream",
          "name": "stdout",
          "text": [
            "Downloading data from https://storage.googleapis.com/tensorflow/keras-applications/vgg19/vgg19_weights_tf_dim_ordering_tf_kernels_notop.h5\n",
            "80142336/80134624 [==============================] - 1s 0us/step\n",
            "80150528/80134624 [==============================] - 1s 0us/step\n"
          ]
        }
      ],
      "source": [
        "mobilnet = VGG19(input_shape=IMAGE_SIZE + [3], weights='imagenet', include_top=False)"
      ]
    },
    {
      "cell_type": "code",
      "source": [
        "for layer in mobilnet.layers:\n",
        "    layer.trainable = False"
      ],
      "metadata": {
        "id": "poEQ_qSDwJdf"
      },
      "execution_count": 7,
      "outputs": []
    },
    {
      "cell_type": "code",
      "source": [
        "folders = glob('/content/gdrive/MyDrive/ML/Driver_safety-master/Driver_safety-master/eyes/Train/*')\n",
        "folders"
      ],
      "metadata": {
        "colab": {
          "base_uri": "https://localhost:8080/"
        },
        "id": "GEE1SfDKv3pb",
        "outputId": "19469539-f7ea-4781-cc57-111e41355f02"
      },
      "execution_count": 8,
      "outputs": [
        {
          "output_type": "execute_result",
          "data": {
            "text/plain": [
              "['/content/gdrive/MyDrive/ML/Driver_safety-master/Driver_safety-master/eyes/Train/ClosedFace',\n",
              " '/content/gdrive/MyDrive/ML/Driver_safety-master/Driver_safety-master/eyes/Train/OpenFace']"
            ]
          },
          "metadata": {},
          "execution_count": 8
        }
      ]
    },
    {
      "cell_type": "code",
      "source": [
        "x = Flatten()(mobilnet.output)"
      ],
      "metadata": {
        "id": "5d_SYn7ytqDp"
      },
      "execution_count": 9,
      "outputs": []
    },
    {
      "cell_type": "code",
      "source": [
        "prediction = Dense(len(folders), activation='softmax')(x)\n",
        "\n",
        "# create a model object\n",
        "model = Model(inputs=mobilnet.input, outputs=prediction)"
      ],
      "metadata": {
        "id": "3GSGwVUjxL3g"
      },
      "execution_count": 10,
      "outputs": []
    },
    {
      "cell_type": "code",
      "source": [
        "model.summary()"
      ],
      "metadata": {
        "colab": {
          "base_uri": "https://localhost:8080/"
        },
        "id": "_Cm1qk4OxL7q",
        "outputId": "9af989e3-f1fb-4afc-fe90-47402f3dea21"
      },
      "execution_count": 11,
      "outputs": [
        {
          "output_type": "stream",
          "name": "stdout",
          "text": [
            "Model: \"model\"\n",
            "_________________________________________________________________\n",
            " Layer (type)                Output Shape              Param #   \n",
            "=================================================================\n",
            " input_1 (InputLayer)        [(None, 224, 224, 3)]     0         \n",
            "                                                                 \n",
            " block1_conv1 (Conv2D)       (None, 224, 224, 64)      1792      \n",
            "                                                                 \n",
            " block1_conv2 (Conv2D)       (None, 224, 224, 64)      36928     \n",
            "                                                                 \n",
            " block1_pool (MaxPooling2D)  (None, 112, 112, 64)      0         \n",
            "                                                                 \n",
            " block2_conv1 (Conv2D)       (None, 112, 112, 128)     73856     \n",
            "                                                                 \n",
            " block2_conv2 (Conv2D)       (None, 112, 112, 128)     147584    \n",
            "                                                                 \n",
            " block2_pool (MaxPooling2D)  (None, 56, 56, 128)       0         \n",
            "                                                                 \n",
            " block3_conv1 (Conv2D)       (None, 56, 56, 256)       295168    \n",
            "                                                                 \n",
            " block3_conv2 (Conv2D)       (None, 56, 56, 256)       590080    \n",
            "                                                                 \n",
            " block3_conv3 (Conv2D)       (None, 56, 56, 256)       590080    \n",
            "                                                                 \n",
            " block3_conv4 (Conv2D)       (None, 56, 56, 256)       590080    \n",
            "                                                                 \n",
            " block3_pool (MaxPooling2D)  (None, 28, 28, 256)       0         \n",
            "                                                                 \n",
            " block4_conv1 (Conv2D)       (None, 28, 28, 512)       1180160   \n",
            "                                                                 \n",
            " block4_conv2 (Conv2D)       (None, 28, 28, 512)       2359808   \n",
            "                                                                 \n",
            " block4_conv3 (Conv2D)       (None, 28, 28, 512)       2359808   \n",
            "                                                                 \n",
            " block4_conv4 (Conv2D)       (None, 28, 28, 512)       2359808   \n",
            "                                                                 \n",
            " block4_pool (MaxPooling2D)  (None, 14, 14, 512)       0         \n",
            "                                                                 \n",
            " block5_conv1 (Conv2D)       (None, 14, 14, 512)       2359808   \n",
            "                                                                 \n",
            " block5_conv2 (Conv2D)       (None, 14, 14, 512)       2359808   \n",
            "                                                                 \n",
            " block5_conv3 (Conv2D)       (None, 14, 14, 512)       2359808   \n",
            "                                                                 \n",
            " block5_conv4 (Conv2D)       (None, 14, 14, 512)       2359808   \n",
            "                                                                 \n",
            " block5_pool (MaxPooling2D)  (None, 7, 7, 512)         0         \n",
            "                                                                 \n",
            " flatten (Flatten)           (None, 25088)             0         \n",
            "                                                                 \n",
            " dense (Dense)               (None, 2)                 50178     \n",
            "                                                                 \n",
            "=================================================================\n",
            "Total params: 20,074,562\n",
            "Trainable params: 50,178\n",
            "Non-trainable params: 20,024,384\n",
            "_________________________________________________________________\n"
          ]
        }
      ]
    },
    {
      "cell_type": "code",
      "source": [
        "from tensorflow.keras.layers import MaxPooling2D"
      ],
      "metadata": {
        "id": "OL2x8ywlxMCp"
      },
      "execution_count": 12,
      "outputs": []
    },
    {
      "cell_type": "code",
      "source": [
        "### Create Model from scratch using CNN\n",
        "model=Sequential()\n",
        "model.add(Conv2D(filters=16,kernel_size=2,padding=\"same\",activation=\"relu\",input_shape=(224,224,3)))\n",
        "model.add(MaxPooling2D(pool_size=2))\n",
        "model.add(Conv2D(filters=32,kernel_size=2,padding=\"same\",activation =\"relu\"))\n",
        "model.add(MaxPooling2D(pool_size=2))\n",
        "model.add(Conv2D(filters=32,kernel_size=2,padding=\"same\",activation =\"relu\"))\n",
        "model.add(MaxPooling2D(pool_size=2))\n",
        "model.add(Conv2D(filters=64,kernel_size=2,padding=\"same\",activation=\"relu\"))\n",
        "model.add(MaxPooling2D(pool_size=2))\n",
        "model.add(Conv2D(filters=64,kernel_size=2,padding=\"same\",activation=\"relu\"))\n",
        "model.add(MaxPooling2D(pool_size=2))\n",
        "model.add(Conv2D(filters=64,kernel_size=2,padding=\"same\",activation=\"relu\"))\n",
        "model.add(MaxPooling2D(pool_size=2))\n",
        "model.add(Conv2D(filters=64,kernel_size=2,padding=\"same\",activation=\"relu\"))\n",
        "model.add(MaxPooling2D(pool_size=2))\n",
        "model.add(Flatten())\n",
        "model.add(Dense(500,activation=\"relu\"))\n",
        "model.add(Dense(2,activation=\"softmax\"))\n",
        "model.summary()"
      ],
      "metadata": {
        "colab": {
          "base_uri": "https://localhost:8080/"
        },
        "id": "VweoaL7TxMF_",
        "outputId": "146e728e-0590-40dc-9443-fad26850ed46"
      },
      "execution_count": 18,
      "outputs": [
        {
          "output_type": "stream",
          "name": "stdout",
          "text": [
            "Model: \"sequential_4\"\n",
            "_________________________________________________________________\n",
            " Layer (type)                Output Shape              Param #   \n",
            "=================================================================\n",
            " conv2d_22 (Conv2D)          (None, 224, 224, 16)      208       \n",
            "                                                                 \n",
            " max_pooling2d_22 (MaxPoolin  (None, 112, 112, 16)     0         \n",
            " g2D)                                                            \n",
            "                                                                 \n",
            " conv2d_23 (Conv2D)          (None, 112, 112, 32)      2080      \n",
            "                                                                 \n",
            " max_pooling2d_23 (MaxPoolin  (None, 56, 56, 32)       0         \n",
            " g2D)                                                            \n",
            "                                                                 \n",
            " conv2d_24 (Conv2D)          (None, 56, 56, 32)        4128      \n",
            "                                                                 \n",
            " max_pooling2d_24 (MaxPoolin  (None, 28, 28, 32)       0         \n",
            " g2D)                                                            \n",
            "                                                                 \n",
            " conv2d_25 (Conv2D)          (None, 28, 28, 64)        8256      \n",
            "                                                                 \n",
            " max_pooling2d_25 (MaxPoolin  (None, 14, 14, 64)       0         \n",
            " g2D)                                                            \n",
            "                                                                 \n",
            " conv2d_26 (Conv2D)          (None, 14, 14, 64)        16448     \n",
            "                                                                 \n",
            " max_pooling2d_26 (MaxPoolin  (None, 7, 7, 64)         0         \n",
            " g2D)                                                            \n",
            "                                                                 \n",
            " conv2d_27 (Conv2D)          (None, 7, 7, 64)          16448     \n",
            "                                                                 \n",
            " max_pooling2d_27 (MaxPoolin  (None, 3, 3, 64)         0         \n",
            " g2D)                                                            \n",
            "                                                                 \n",
            " conv2d_28 (Conv2D)          (None, 3, 3, 64)          16448     \n",
            "                                                                 \n",
            " max_pooling2d_28 (MaxPoolin  (None, 1, 1, 64)         0         \n",
            " g2D)                                                            \n",
            "                                                                 \n",
            " flatten_5 (Flatten)         (None, 64)                0         \n",
            "                                                                 \n",
            " dense_9 (Dense)             (None, 500)               32500     \n",
            "                                                                 \n",
            " dense_10 (Dense)            (None, 2)                 1002      \n",
            "                                                                 \n",
            "=================================================================\n",
            "Total params: 97,518\n",
            "Trainable params: 97,518\n",
            "Non-trainable params: 0\n",
            "_________________________________________________________________\n"
          ]
        }
      ]
    },
    {
      "cell_type": "code",
      "source": [
        "model.compile(\n",
        "  loss='categorical_crossentropy',\n",
        "  optimizer='adam',\n",
        "  metrics=['accuracy']\n",
        ")"
      ],
      "metadata": {
        "id": "MtdBVuRii5n0"
      },
      "execution_count": 19,
      "outputs": []
    },
    {
      "cell_type": "code",
      "source": [
        "# Use the Image Data Generator to import the images from the dataset\n",
        "from tensorflow.keras.preprocessing.image import ImageDataGenerator\n",
        "\n",
        "train_datagen = ImageDataGenerator(rescale = 1./255,\n",
        "                                   shear_range = 0.2,\n",
        "                                   zoom_range = 0.2,\n",
        "                                   horizontal_flip = True)\n",
        "\n",
        "test_datagen = ImageDataGenerator(rescale = 1./255)"
      ],
      "metadata": {
        "id": "Yom7AGOSxLCU"
      },
      "execution_count": 20,
      "outputs": []
    },
    {
      "cell_type": "code",
      "source": [
        "training_set = train_datagen.flow_from_directory('/content/gdrive/MyDrive/ML/Driver_safety-master/Driver_safety-master/eyes/Train',\n",
        "                                                 target_size = (224, 224),\n",
        "                                                 batch_size = 32,\n",
        "                                                 class_mode = 'categorical')"
      ],
      "metadata": {
        "colab": {
          "base_uri": "https://localhost:8080/"
        },
        "id": "AmKO_qI8xLIa",
        "outputId": "676aa89d-5b12-4e77-dc46-9cfd37379ee3"
      },
      "execution_count": 21,
      "outputs": [
        {
          "output_type": "stream",
          "name": "stdout",
          "text": [
            "Found 2433 images belonging to 2 classes.\n"
          ]
        }
      ]
    },
    {
      "cell_type": "code",
      "source": [
        "training_set"
      ],
      "metadata": {
        "id": "lNBAfFNrdEGl",
        "colab": {
          "base_uri": "https://localhost:8080/"
        },
        "outputId": "d024a4c1-0dfe-4c12-cee4-37bfe48d9eff"
      },
      "execution_count": 22,
      "outputs": [
        {
          "output_type": "execute_result",
          "data": {
            "text/plain": [
              "<keras.preprocessing.image.DirectoryIterator at 0x7fa5ec9560d0>"
            ]
          },
          "metadata": {},
          "execution_count": 22
        }
      ]
    },
    {
      "cell_type": "code",
      "execution_count": 23,
      "metadata": {
        "colab": {
          "base_uri": "https://localhost:8080/"
        },
        "id": "C8vrCUlKZODa",
        "outputId": "c3a37231-5111-4574-f7e7-ca4e70cc5c0c"
      },
      "outputs": [
        {
          "output_type": "stream",
          "name": "stderr",
          "text": [
            "/usr/local/lib/python3.7/dist-packages/ipykernel_launcher.py:6: UserWarning: `Model.fit_generator` is deprecated and will be removed in a future version. Please use `Model.fit`, which supports generators.\n",
            "  \n"
          ]
        },
        {
          "output_type": "stream",
          "name": "stdout",
          "text": [
            "Epoch 1/50\n",
            "77/77 [==============================] - 419s 5s/step - loss: 0.6837 - accuracy: 0.5475\n",
            "Epoch 2/50\n",
            "77/77 [==============================] - 28s 367ms/step - loss: 0.6402 - accuracy: 0.6358\n",
            "Epoch 3/50\n",
            "77/77 [==============================] - 28s 363ms/step - loss: 0.6292 - accuracy: 0.6502\n",
            "Epoch 4/50\n",
            "77/77 [==============================] - 28s 363ms/step - loss: 0.5985 - accuracy: 0.6745\n",
            "Epoch 5/50\n",
            "77/77 [==============================] - 28s 363ms/step - loss: 0.5246 - accuracy: 0.7497\n",
            "Epoch 6/50\n",
            "77/77 [==============================] - 28s 363ms/step - loss: 0.4730 - accuracy: 0.7748\n",
            "Epoch 7/50\n",
            "77/77 [==============================] - 28s 365ms/step - loss: 0.4007 - accuracy: 0.8229\n",
            "Epoch 8/50\n",
            "77/77 [==============================] - 28s 368ms/step - loss: 0.4192 - accuracy: 0.8167\n",
            "Epoch 9/50\n",
            "77/77 [==============================] - 28s 367ms/step - loss: 0.3525 - accuracy: 0.8500\n",
            "Epoch 10/50\n",
            "77/77 [==============================] - 28s 362ms/step - loss: 0.2910 - accuracy: 0.8672\n",
            "Epoch 11/50\n",
            "77/77 [==============================] - 28s 362ms/step - loss: 0.2641 - accuracy: 0.8948\n",
            "Epoch 12/50\n",
            "77/77 [==============================] - 28s 365ms/step - loss: 0.2926 - accuracy: 0.8796\n",
            "Epoch 13/50\n",
            "77/77 [==============================] - 28s 363ms/step - loss: 0.2276 - accuracy: 0.9075\n",
            "Epoch 14/50\n",
            "77/77 [==============================] - 28s 361ms/step - loss: 0.1824 - accuracy: 0.9281\n",
            "Epoch 15/50\n",
            "77/77 [==============================] - 28s 362ms/step - loss: 0.1604 - accuracy: 0.9359\n",
            "Epoch 16/50\n",
            "77/77 [==============================] - 28s 361ms/step - loss: 0.1664 - accuracy: 0.9359\n",
            "Epoch 17/50\n",
            "77/77 [==============================] - 28s 361ms/step - loss: 0.1403 - accuracy: 0.9478\n",
            "Epoch 18/50\n",
            "77/77 [==============================] - 28s 361ms/step - loss: 0.1390 - accuracy: 0.9462\n",
            "Epoch 19/50\n",
            "77/77 [==============================] - 28s 365ms/step - loss: 0.2198 - accuracy: 0.9120\n",
            "Epoch 20/50\n",
            "77/77 [==============================] - 28s 365ms/step - loss: 0.1555 - accuracy: 0.9392\n",
            "Epoch 21/50\n",
            "77/77 [==============================] - 28s 361ms/step - loss: 0.1295 - accuracy: 0.9511\n",
            "Epoch 22/50\n",
            "77/77 [==============================] - 28s 363ms/step - loss: 0.1351 - accuracy: 0.9478\n",
            "Epoch 23/50\n",
            "77/77 [==============================] - 28s 362ms/step - loss: 0.1159 - accuracy: 0.9573\n",
            "Epoch 24/50\n",
            "77/77 [==============================] - 28s 360ms/step - loss: 0.1209 - accuracy: 0.9564\n",
            "Epoch 25/50\n",
            "77/77 [==============================] - 28s 360ms/step - loss: 0.0967 - accuracy: 0.9651\n",
            "Epoch 26/50\n",
            "77/77 [==============================] - 28s 359ms/step - loss: 0.1032 - accuracy: 0.9581\n",
            "Epoch 27/50\n",
            "77/77 [==============================] - 28s 361ms/step - loss: 0.0964 - accuracy: 0.9671\n",
            "Epoch 28/50\n",
            "77/77 [==============================] - 28s 361ms/step - loss: 0.0887 - accuracy: 0.9675\n",
            "Epoch 29/50\n",
            "77/77 [==============================] - 28s 359ms/step - loss: 0.0968 - accuracy: 0.9659\n",
            "Epoch 30/50\n",
            "77/77 [==============================] - 28s 359ms/step - loss: 0.2332 - accuracy: 0.9203\n",
            "Epoch 31/50\n",
            "77/77 [==============================] - 28s 364ms/step - loss: 0.1583 - accuracy: 0.9400\n",
            "Epoch 32/50\n",
            "77/77 [==============================] - 28s 358ms/step - loss: 0.1018 - accuracy: 0.9634\n",
            "Epoch 33/50\n",
            "77/77 [==============================] - 28s 363ms/step - loss: 0.0962 - accuracy: 0.9655\n",
            "Epoch 34/50\n",
            "77/77 [==============================] - 28s 357ms/step - loss: 0.0756 - accuracy: 0.9729\n",
            "Epoch 35/50\n",
            "77/77 [==============================] - 28s 360ms/step - loss: 0.1571 - accuracy: 0.9396\n",
            "Epoch 36/50\n",
            "77/77 [==============================] - 28s 359ms/step - loss: 0.1058 - accuracy: 0.9605\n",
            "Epoch 37/50\n",
            "77/77 [==============================] - 28s 358ms/step - loss: 0.0929 - accuracy: 0.9663\n",
            "Epoch 38/50\n",
            "77/77 [==============================] - 28s 359ms/step - loss: 0.0808 - accuracy: 0.9663\n",
            "Epoch 39/50\n",
            "77/77 [==============================] - 28s 358ms/step - loss: 0.0814 - accuracy: 0.9704\n",
            "Epoch 40/50\n",
            "77/77 [==============================] - 28s 364ms/step - loss: 0.0783 - accuracy: 0.9688\n",
            "Epoch 41/50\n",
            "77/77 [==============================] - 28s 360ms/step - loss: 0.0674 - accuracy: 0.9737\n",
            "Epoch 42/50\n",
            "77/77 [==============================] - 28s 366ms/step - loss: 0.0709 - accuracy: 0.9737\n",
            "Epoch 43/50\n",
            "77/77 [==============================] - 28s 357ms/step - loss: 0.0566 - accuracy: 0.9799\n",
            "Epoch 44/50\n",
            "77/77 [==============================] - 28s 360ms/step - loss: 0.0568 - accuracy: 0.9790\n",
            "Epoch 45/50\n",
            "77/77 [==============================] - 27s 357ms/step - loss: 0.0553 - accuracy: 0.9790\n",
            "Epoch 46/50\n",
            "77/77 [==============================] - 28s 357ms/step - loss: 0.0631 - accuracy: 0.9774\n",
            "Epoch 47/50\n",
            "77/77 [==============================] - 28s 357ms/step - loss: 0.0656 - accuracy: 0.9770\n",
            "Epoch 48/50\n",
            "77/77 [==============================] - 28s 358ms/step - loss: 0.0559 - accuracy: 0.9819\n",
            "Epoch 49/50\n",
            "77/77 [==============================] - 28s 357ms/step - loss: 0.0408 - accuracy: 0.9848\n",
            "Epoch 50/50\n",
            "77/77 [==============================] - 28s 359ms/step - loss: 0.0508 - accuracy: 0.9831\n"
          ]
        }
      ],
      "source": [
        "# fit the model\n",
        "# Run the cell. It will take some time to execute\n",
        "r = model.fit_generator(\n",
        "  training_set,\n",
        "  epochs=50,\n",
        "  steps_per_epoch=len(training_set),\n",
        ")"
      ]
    },
    {
      "cell_type": "code",
      "source": [
        "# plot the loss\n",
        "plt.plot(r.history['loss'], label='train loss')\n",
        "plt.legend()\n",
        "plt.show()\n",
        "plt.savefig('LossVal_loss')\n",
        "\n",
        "# plot the accuracy\n",
        "plt.plot(r.history['accuracy'], label='train acc')\n",
        "plt.legend()\n",
        "plt.show()\n",
        "plt.savefig('AccVal_acc')\n"
      ],
      "metadata": {
        "colab": {
          "base_uri": "https://localhost:8080/",
          "height": 531
        },
        "id": "i8FrQT34lpZS",
        "outputId": "5520710c-71d5-4b7c-f1ea-d4b97309af10"
      },
      "execution_count": 25,
      "outputs": [
        {
          "output_type": "display_data",
          "data": {
            "text/plain": [
              "<Figure size 432x288 with 1 Axes>"
            ],
            "image/png": "[encoded data removed]"
          },
          "metadata": {
            "needs_background": "light"
          }
        },
        {
          "output_type": "display_data",
          "data": {
            "text/plain": [
              "<Figure size 432x288 with 1 Axes>"
            ],
            "image/png": "[encoded data removed]"
          },
          "metadata": {
            "needs_background": "light"
          }
        },
        {
          "output_type": "display_data",
          "data": {
            "text/plain": [
              "<Figure size 432x288 with 0 Axes>"
            ]
          },
          "metadata": {}
        }
      ]
    },
    {
      "cell_type": "code",
      "source": [
        "from tensorflow.keras.models import load_model\n",
        "\n",
        "model.save('model_vgg19.h5')"
      ],
      "metadata": {
        "id": "iZf04MGFwjX1"
      },
      "execution_count": 26,
      "outputs": []
    },
    {
      "cell_type": "code",
      "source": [
        "y_pred = model.predict(test_set)"
      ],
      "metadata": {
        "id": "m31nsxKywjiB"
      },
      "execution_count": null,
      "outputs": []
    },
    {
      "cell_type": "code",
      "source": [
        ""
      ],
      "metadata": {
        "id": "Wxj6xgBasasR"
      },
      "execution_count": 2,
      "outputs": []
    },
    {
      "cell_type": "code",
      "execution_count": 2,
      "metadata": {
        "id": "PNxq0neQZODb"
      },
      "outputs": [],
      "source": [
        ""
      ]
    },
    {
      "cell_type": "code",
      "execution_count": 2,
      "metadata": {
        "id": "mz04RB5sZODc"
      },
      "outputs": [],
      "source": [
        ""
      ]
    },
    {
      "cell_type": "code",
      "execution_count": 2,
      "metadata": {
        "id": "_syI0s7jZODc"
      },
      "outputs": [],
      "source": [
        ""
      ]
    },
    {
      "cell_type": "code",
      "execution_count": 2,
      "metadata": {
        "id": "fdNrieNfZODd"
      },
      "outputs": [],
      "source": [
        ""
      ]
    },
    {
      "cell_type": "code",
      "source": [
        ""
      ],
      "metadata": {
        "id": "hNJUvWszsZRM"
      },
      "execution_count": null,
      "outputs": []
    },
    {
      "cell_type": "code",
      "execution_count": null,
      "metadata": {
        "id": "IQXma8vqZODe"
      },
      "outputs": [],
      "source": [
        ""
      ]
    },
    {
      "cell_type": "code",
      "execution_count": null,
      "metadata": {
        "id": "GEpyJZNWZODe"
      },
      "outputs": [],
      "source": [
        "\n"
      ]
    },
    {
      "cell_type": "code",
      "execution_count": 2,
      "metadata": {
        "id": "zO_vQO2lZODf"
      },
      "outputs": [],
      "source": [
        ""
      ]
    },
    {
      "cell_type": "code",
      "execution_count": null,
      "metadata": {
        "id": "fADOKWF-ZODg"
      },
      "outputs": [],
      "source": [
        ""
      ]
    }
  ],
  "metadata": {
    "kernelspec": {
      "display_name": "Python 3",
      "language": "python",
      "name": "python3"
    },
    "language_info": {
      "codemirror_mode": {
        "name": "ipython",
        "version": 3
      },
      "file_extension": ".py",
      "mimetype": "text/x-python",
      "name": "python",
      "nbconvert_exporter": "python",
      "pygments_lexer": "ipython3",
      "version": "3.6.7"
    },
    "colab": {
      "name": "Drowsy.ipynb",
      "provenance": [],
      "collapsed_sections": [],
      "include_colab_link": true
    },
    "accelerator": "GPU"
  },
  "nbformat": 4,
  "nbformat_minor": 0
}